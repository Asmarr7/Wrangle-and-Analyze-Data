{
 "cells": [
  {
   "cell_type": "markdown",
   "metadata": {},
   "source": [
    "# Wrangling and analyzing Twitter data\n",
    "## By: Asma alreshoud\n",
    "#### After wrangling we_rate_dogs twitter data, I have came up with few insights and conclusions that are to be discussed and shown it this report. Wangling the data went through three different phases, which are:\n",
    "* Gathering\n",
    "\n",
    "since the data was to be collected from 3 different souces this step was inevatibe. \n",
    "* Assesing \n",
    "\n",
    "The gathered data had some major and minor issues that needed to be assesed and classified into quality and tidieness issues\n",
    "* Cleaning \n",
    "\n",
    "Finally, implementing all the assesed changes.\n"
   ]
  },
  {
   "cell_type": "markdown",
   "metadata": {},
   "source": [
    "# Insights\n",
    "### after making sure that the data is as clean as possible there was some interisting insighs discoved, let's see the insights that i have came up with and discuss possible reasonings for each insight \n",
    "\n",
    "### 1- stages effects on rating, retweet counts and favorite count.\n",
    "we rate dogs use four different stages of dogs which are:\n",
    "* Doggo: big pupper, usually older.\n",
    "* Pupper: Small doggo, usually younger.\n",
    "* Puppo: Transitional phase between pupper and doggo, reffered to as a 'teenage' dog.\n",
    "* Floof(er): any dog with a lot of fur.\n",
    "\n",
    "Through my analysis I have came to the following conclusions:\n",
    "\n",
    "> 1- on avarage doggo gets the highest rating numerator of 12.19\n",
    "\n",
    "> 2- on avarage doggo also gets the highest retweet count which is of 7056.71\n",
    "\n",
    "> 3- on avarage doggo also gets the highest favorite counts which is of 16985.167\n",
    "\n",
    "Poeple seem to enjoy doggo stage. This is an indecation for we rate dogs to increase the tweets about Doggo stage dogs in order to get more retweets and favorites"
   ]
  },
  {
   "cell_type": "markdown",
   "metadata": {},
   "source": [
    "### 2- Which dog stage is easier to predict and how many pictures are ofen posted of them.\n",
    "\n",
    "WeRateDogs Twitter archive was ran through a neural network that can classify breeds of dogs. As a results there was table full of image predictions and the image number that corresponded to the most confident prediction (numbered 1 to 4 since tweets can have up to four images). Through my analysis I have noticed that some dog stages were more accurate to predict than others, according to that analysis the following was concluded:\n",
    "> 1- floofer first breed pridiction is on avarage 0.585 and the prediction was on avarage correct.\n",
    "\n",
    "> 2- floofer second breed pridiction is on avarage 0.140 and the prediction was on avarage correct.\n",
    "\n",
    "> 3- floofer third breed pridiction is on avarage 0.058 and the prediction was on avarage mostly (80%) correct.\n",
    "\n",
    "this makes floofer the most stage that has accurate and easiest predictions, this could be due to the nature of fur on the dog, meaning that dogs with more fur are easier to predict and have obvious breeds."
   ]
  },
  {
   "cell_type": "markdown",
   "metadata": {},
   "source": [
    "### 3- Dog rating and retweets, favorites .\n",
    "\n",
    "surprisingly, there is no direct relationship between the rating numerator and the amount of retweet count and favorite count, meaning that the rating has no influse on the amount of retweets and favorite counts. But on avarage dogs with rating (14) have the most retweets and favorites."
   ]
  },
  {
   "cell_type": "code",
   "execution_count": null,
   "metadata": {},
   "outputs": [],
   "source": []
  }
 ],
 "metadata": {
  "kernelspec": {
   "display_name": "Python 3",
   "language": "python",
   "name": "python3"
  },
  "language_info": {
   "codemirror_mode": {
    "name": "ipython",
    "version": 3
   },
   "file_extension": ".py",
   "mimetype": "text/x-python",
   "name": "python",
   "nbconvert_exporter": "python",
   "pygments_lexer": "ipython3",
   "version": "3.6.3"
  }
 },
 "nbformat": 4,
 "nbformat_minor": 2
}
